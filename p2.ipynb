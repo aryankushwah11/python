{
 "cells": [
  {
   "cell_type": "code",
   "execution_count": 2,
   "id": "57268995",
   "metadata": {},
   "outputs": [
    {
     "name": "stdout",
     "output_type": "stream",
     "text": [
      "\n"
     ]
    }
   ],
   "source": [
    "a=input(\"enter your name\")\n",
    "print (a)"
   ]
  },
  {
   "cell_type": "code",
   "execution_count": 7,
   "id": "e20f4ced",
   "metadata": {},
   "outputs": [
    {
     "name": "stdout",
     "output_type": "stream",
     "text": [
      "5\n"
     ]
    }
   ],
   "source": [
    "v=int(input(\"enter number\"))\n",
    "print(v)"
   ]
  },
  {
   "cell_type": "code",
   "execution_count": 8,
   "id": "a5479a71",
   "metadata": {},
   "outputs": [
    {
     "name": "stdout",
     "output_type": "stream",
     "text": [
      "greater\n"
     ]
    }
   ],
   "source": [
    "a=int(input(\"enter number\"))\n",
    "if a>10:\n",
    "    print(\"greater\")\n",
    "elif a==10:\n",
    "    print(\"equal\")\n",
    "else :\n",
    "    print(\"smaller\")"
   ]
  },
  {
   "cell_type": "markdown",
   "id": "13b7bccc",
   "metadata": {},
   "source": [
    "#SHORT HAND IF"
   ]
  },
  {
   "cell_type": "code",
   "execution_count": 9,
   "id": "477275cf",
   "metadata": {},
   "outputs": [
    {
     "name": "stdout",
     "output_type": "stream",
     "text": [
      "a greater than b\n"
     ]
    }
   ],
   "source": [
    "a=int(input(\"enter number\"))\n",
    "b=int(input(\"enter number\"))\n",
    "if a>b: print(\"a greater than b\")\n"
   ]
  },
  {
   "cell_type": "markdown",
   "id": "138dc4d0",
   "metadata": {},
   "source": [
    "#Short Hand if___else\n"
   ]
  },
  {
   "cell_type": "code",
   "execution_count": 10,
   "id": "97d84d6f",
   "metadata": {},
   "outputs": [
    {
     "name": "stdout",
     "output_type": "stream",
     "text": [
      "B\n"
     ]
    }
   ],
   "source": [
    "a=2\n",
    "b=67\n",
    "print(\"A\") if a>b else print(\"B\")"
   ]
  },
  {
   "cell_type": "code",
   "execution_count": 11,
   "id": "ddd9c43e",
   "metadata": {},
   "outputs": [
    {
     "name": "stdout",
     "output_type": "stream",
     "text": [
      "=\n"
     ]
    }
   ],
   "source": [
    "a=300\n",
    "b=300\n",
    "\n",
    "print(\"A\") if a>b else print(\"=\") if a==b else print(\"B\")"
   ]
  },
  {
   "cell_type": "code",
   "execution_count": 12,
   "id": "2a99ef0b",
   "metadata": {},
   "outputs": [
    {
     "name": "stdout",
     "output_type": "stream",
     "text": [
      "both condition are true\n"
     ]
    }
   ],
   "source": [
    "a=200\n",
    "b=30\n",
    "c=500\n",
    "\n",
    "if a>b and c>a:\n",
    "    print(\"both condition are true\")    "
   ]
  },
  {
   "cell_type": "markdown",
   "id": "44fc8464",
   "metadata": {},
   "source": [
    "NOT USE\n"
   ]
  },
  {
   "cell_type": "code",
   "execution_count": 13,
   "id": "d9afa8be",
   "metadata": {},
   "outputs": [
    {
     "name": "stdout",
     "output_type": "stream",
     "text": [
      "A is not greater\n"
     ]
    }
   ],
   "source": [
    "a=33\n",
    "b=200\n",
    "if not a>b:\n",
    "    print(\"A is not greater\")\n"
   ]
  },
  {
   "cell_type": "code",
   "execution_count": 14,
   "id": "49a5d60f",
   "metadata": {},
   "outputs": [
    {
     "name": "stdout",
     "output_type": "stream",
     "text": [
      "invalid input\n"
     ]
    }
   ],
   "source": [
    "a=int(input(\"enter\"))\n",
    "match a:\n",
    "    case 1:\n",
    "        print(\"monday\")\n",
    "    case 2:\n",
    "        print(\"tuesday\")\n",
    "    case 3:\n",
    "        print(\"wednesday\")\n",
    "    case _:\n",
    "        print(\"invalid input\")"
   ]
  },
  {
   "cell_type": "code",
   "execution_count": 15,
   "id": "b46ce495",
   "metadata": {},
   "outputs": [
    {
     "name": "stdout",
     "output_type": "stream",
     "text": [
      "invalid input\n"
     ]
    }
   ],
   "source": [
    "month=int(input(\"enter\"))\n",
    "match a:\n",
    "    case 1|2|3|4|5 if month==5:\n",
    "        print(\"weekday\")\n",
    "    case _:\n",
    "        print(\"invalid input\")\n"
   ]
  },
  {
   "cell_type": "code",
   "execution_count": 16,
   "id": "b8336beb",
   "metadata": {},
   "outputs": [
    {
     "name": "stdout",
     "output_type": "stream",
     "text": [
      "invalid input\n"
     ]
    }
   ],
   "source": [
    "month=int(input(\"enter\"))\n",
    "match a:\n",
    "    case 1|2|3|4|5:\n",
    "        print(\"weekday\")\n",
    "    case 6|7:\n",
    "        print(\"weekend\")\n",
    "    case _:\n",
    "        print(\"invalid input\")"
   ]
  },
  {
   "cell_type": "markdown",
   "id": "5a47d30e",
   "metadata": {},
   "source": [
    "#while loop"
   ]
  },
  {
   "cell_type": "code",
   "execution_count": 17,
   "id": "ff82d7bd",
   "metadata": {},
   "outputs": [
    {
     "name": "stdout",
     "output_type": "stream",
     "text": [
      "1\n",
      "2\n",
      "3\n",
      "4\n",
      "5\n"
     ]
    }
   ],
   "source": [
    "i=1\n",
    "while i<6:\n",
    "    print(i)\n",
    "    i+=1"
   ]
  },
  {
   "cell_type": "code",
   "execution_count": 18,
   "id": "0dc367a8",
   "metadata": {},
   "outputs": [
    {
     "name": "stdout",
     "output_type": "stream",
     "text": [
      "square is  25\n"
     ]
    }
   ],
   "source": [
    "#wap to find the square of a number\n",
    "n=int(input(\"enter nummber\"))\n",
    "print(\"square is \",n**2)"
   ]
  },
  {
   "cell_type": "code",
   "execution_count": 19,
   "id": "25079dc5",
   "metadata": {},
   "outputs": [
    {
     "name": "stdout",
     "output_type": "stream",
     "text": [
      "sum is  10\n"
     ]
    }
   ],
   "source": [
    "#wap to take two numbers and print their sum\n",
    "a=int(input(\"enter a number\"))\n",
    "b=int(input(\"enter a number\"))\n",
    "print(\"sum is \",a+b)"
   ]
  },
  {
   "cell_type": "code",
   "execution_count": 20,
   "id": "ae88678a",
   "metadata": {},
   "outputs": [
    {
     "name": "stdout",
     "output_type": "stream",
     "text": [
      "a: 5 b: 5\n"
     ]
    }
   ],
   "source": [
    "#wap to to swap two variables\n",
    "a=int(input(\"enter a number\"))\n",
    "b=int(input(\"enter a number\"))\n",
    "a,b=b,a\n",
    "print(\"a:\",a,\"b:\",b)"
   ]
  },
  {
   "cell_type": "code",
   "execution_count": 21,
   "id": "283af8d2",
   "metadata": {},
   "outputs": [
    {
     "name": "stdout",
     "output_type": "stream",
     "text": [
      "odd\n"
     ]
    }
   ],
   "source": [
    "#WAP TO CHECK NUMBER IS EVEN OR ODD\n",
    "a=int(input(\"enter a number\"))\n",
    "if a%2==0:\n",
    "    print(\"even\")\n",
    "else:\n",
    "    print(\"odd\")"
   ]
  },
  {
   "cell_type": "code",
   "execution_count": 22,
   "id": "572001d8",
   "metadata": {},
   "outputs": [
    {
     "name": "stdout",
     "output_type": "stream",
     "text": [
      "NO\n"
     ]
    }
   ],
   "source": [
    "#mini program example-Number guessing game\n",
    "b=10\n",
    "a=int(input(\"enter a number\"))\n",
    "if a==b:\n",
    "    print(\"yes\")\n",
    "else:\n",
    "    print(\"NO\")\n"
   ]
  },
  {
   "cell_type": "code",
   "execution_count": 23,
   "id": "fe409ac3",
   "metadata": {},
   "outputs": [
    {
     "name": "stdout",
     "output_type": "stream",
     "text": [
      "fahrenheit is  41.0\n"
     ]
    }
   ],
   "source": [
    "#wap to convert celcius into fahrenheit\n",
    "c=int(input(\"enter a number\"))\n",
    "f=(c*9/5)+32\n",
    "print(\"fahrenheit is \",f)\n"
   ]
  },
  {
   "cell_type": "code",
   "execution_count": 25,
   "id": "ef40cd8d",
   "metadata": {},
   "outputs": [
    {
     "name": "stdout",
     "output_type": "stream",
     "text": [
      "SI Is: 2.1\n"
     ]
    }
   ],
   "source": [
    "#WAP TO CALCULATE SIMPLE INTEREST\n",
    "p=int(input(\"enter p\"))\n",
    "r=int(input(\"enter r\"))\n",
    "t=int(input(\"ente t\"))\n",
    "print(\"SI Is:\",(p*r*t)/100)"
   ]
  },
  {
   "cell_type": "code",
   "execution_count": 26,
   "id": "57fa15a6",
   "metadata": {},
   "outputs": [
    {
     "name": "stdout",
     "output_type": "stream",
     "text": [
      "lkjhgfdsa\n"
     ]
    }
   ],
   "source": [
    "#wap to reverse a string\n",
    "s=input(\"enter a string\")\n",
    "print(s[::-1])"
   ]
  },
  {
   "cell_type": "code",
   "execution_count": null,
   "id": "2c82e6f5",
   "metadata": {},
   "outputs": [
    {
     "name": "stdout",
     "output_type": "stream",
     "text": [
      "1\n",
      "2\n",
      "3\n"
     ]
    }
   ],
   "source": [
    " i=1\n",
    " while i<6:\n",
    "        print(i)\n",
    "        if i==3:\n",
    "            break\n",
    "        i+=1"
   ]
  },
  {
   "cell_type": "code",
   "execution_count": null,
   "id": "f534b4a1",
   "metadata": {},
   "outputs": [
    {
     "name": "stdout",
     "output_type": "stream",
     "text": [
      "1\n",
      "2\n",
      "4\n",
      "5\n",
      "6\n"
     ]
    }
   ],
   "source": [
    "i=0\n",
    "while i<6:\n",
    "    i+=1\n",
    "    if i==3:\n",
    "        continue\n",
    "    print(i)\n",
    "    "
   ]
  },
  {
   "cell_type": "code",
   "execution_count": 34,
   "id": "ab7b1f08",
   "metadata": {},
   "outputs": [
    {
     "name": "stdout",
     "output_type": "stream",
     "text": [
      "apple\n",
      "banana\n",
      "cherry\n",
      "<class 'list'>\n"
     ]
    },
    {
     "data": {
      "text/plain": [
       "list"
      ]
     },
     "execution_count": 34,
     "metadata": {},
     "output_type": "execute_result"
    }
   ],
   "source": [
    "fruits=[\"apple\",\"banana\",\"cherry\"]\n",
    "for x in fruits:\n",
    "    print(x)    \n",
    "print(type(fruits))\n",
    "type(fruits)"
   ]
  },
  {
   "cell_type": "code",
   "execution_count": 36,
   "id": "9653bc22",
   "metadata": {},
   "outputs": [
    {
     "name": "stdout",
     "output_type": "stream",
     "text": [
      "A\n",
      "p\n",
      "p\n",
      "l\n",
      "e\n"
     ]
    }
   ],
   "source": [
    "for x in \"Apple\":\n",
    "    print(x)"
   ]
  },
  {
   "cell_type": "markdown",
   "id": "660ae96e",
   "metadata": {},
   "source": [
    "#break statement with list\n"
   ]
  },
  {
   "cell_type": "code",
   "execution_count": 37,
   "id": "39ded209",
   "metadata": {},
   "outputs": [
    {
     "name": "stdout",
     "output_type": "stream",
     "text": [
      "apple\n",
      "banana\n"
     ]
    }
   ],
   "source": [
    "fruits=[\"apple\",\"banana\",\"cherry\"]\n",
    "for x in fruits:\n",
    "    print(x)\n",
    "    if x==\"banana\":\n",
    "        break"
   ]
  },
  {
   "cell_type": "code",
   "execution_count": 43,
   "id": "885ce3e7",
   "metadata": {},
   "outputs": [
    {
     "name": "stdout",
     "output_type": "stream",
     "text": [
      "apple\n",
      "cherry\n"
     ]
    }
   ],
   "source": [
    "fruits=[\"apple\",\"banana\",\"cherry\"]\n",
    "for x in fruits:\n",
    "        \n",
    "    if x==\"banana\":\n",
    "        continue  \n",
    "    print(x)\n",
    "      \n"
   ]
  },
  {
   "cell_type": "markdown",
   "id": "256a6a13",
   "metadata": {},
   "source": [
    "for with range"
   ]
  },
  {
   "cell_type": "code",
   "execution_count": 45,
   "id": "cdbc2005",
   "metadata": {},
   "outputs": [
    {
     "name": "stdout",
     "output_type": "stream",
     "text": [
      "0\n",
      "1\n",
      "2\n",
      "3\n",
      "4\n",
      "5\n",
      "6\n",
      "7\n",
      "8\n",
      "9\n"
     ]
    }
   ],
   "source": [
    "for x in range(10):\n",
    "    print(x)"
   ]
  },
  {
   "cell_type": "code",
   "execution_count": 46,
   "id": "163cc342",
   "metadata": {},
   "outputs": [
    {
     "name": "stdout",
     "output_type": "stream",
     "text": [
      "2\n",
      "3\n",
      "4\n",
      "5\n",
      "6\n",
      "7\n",
      "8\n",
      "9\n"
     ]
    }
   ],
   "source": [
    "for i in range(2,10):\n",
    "    print(i)"
   ]
  },
  {
   "cell_type": "code",
   "execution_count": 47,
   "id": "51db6ad4",
   "metadata": {},
   "outputs": [
    {
     "name": "stdout",
     "output_type": "stream",
     "text": [
      "1\n",
      "3\n",
      "5\n",
      "7\n",
      "9\n"
     ]
    }
   ],
   "source": [
    "for i in range(1,10,2):\n",
    "    print(i)"
   ]
  },
  {
   "cell_type": "markdown",
   "id": "6ab9716f",
   "metadata": {},
   "source": [
    "while with else"
   ]
  },
  {
   "cell_type": "code",
   "execution_count": 49,
   "id": "9d27282f",
   "metadata": {},
   "outputs": [
    {
     "name": "stdout",
     "output_type": "stream",
     "text": [
      "1\n",
      "2\n",
      "3\n",
      "4\n",
      "5\n",
      "i is no longer \n"
     ]
    }
   ],
   "source": [
    "i=1\n",
    "while i<6:\n",
    "    print(i)\n",
    "    i+=1\n",
    "else:\n",
    "    print(\"i is no longer \")"
   ]
  },
  {
   "cell_type": "code",
   "execution_count": 51,
   "id": "62d20cad",
   "metadata": {},
   "outputs": [
    {
     "name": "stdout",
     "output_type": "stream",
     "text": [
      "1\n",
      "2\n",
      "3\n",
      "4\n",
      "5\n",
      "finally\n"
     ]
    }
   ],
   "source": [
    "i=1\n",
    "while i<6:\n",
    "    print(i)\n",
    "    i+=1\n",
    "else:\n",
    "    print(\"finally\")"
   ]
  },
  {
   "cell_type": "code",
   "execution_count": 53,
   "id": "b6638570",
   "metadata": {},
   "outputs": [
    {
     "name": "stdout",
     "output_type": "stream",
     "text": [
      "A Apple\n",
      "A Banana\n",
      "A Cherry\n",
      "B Apple\n",
      "B Banana\n",
      "B Cherry\n",
      "C Apple\n",
      "C Banana\n",
      "C Cherry\n"
     ]
    }
   ],
   "source": [
    "a=[\"A\",\"B\",\"C\"]\n",
    "fruits=[\"Apple\",\"Banana\",\"Cherry\"]\n",
    "for x in a:\n",
    "    for y in fruits:\n",
    "        print(x,y)"
   ]
  },
  {
   "cell_type": "code",
   "execution_count": 54,
   "id": "642c50ca",
   "metadata": {},
   "outputs": [],
   "source": [
    "for x in [0,1,2,3]:\n",
    "    pass"
   ]
  },
  {
   "cell_type": "code",
   "execution_count": null,
   "id": "6b037eea",
   "metadata": {},
   "outputs": [],
   "source": []
  }
 ],
 "metadata": {
  "kernelspec": {
   "display_name": "base",
   "language": "python",
   "name": "python3"
  },
  "language_info": {
   "codemirror_mode": {
    "name": "ipython",
    "version": 3
   },
   "file_extension": ".py",
   "mimetype": "text/x-python",
   "name": "python",
   "nbconvert_exporter": "python",
   "pygments_lexer": "ipython3",
   "version": "3.13.5"
  }
 },
 "nbformat": 4,
 "nbformat_minor": 5
}
