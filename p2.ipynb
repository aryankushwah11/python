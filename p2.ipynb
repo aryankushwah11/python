{
 "cells": [
  {
   "cell_type": "code",
   "execution_count": null,
   "id": "57268995",
   "metadata": {},
   "outputs": [
    {
     "name": "stdout",
     "output_type": "stream",
     "text": [
      "\n"
     ]
    }
   ],
   "source": [
    "a=input(\"enter your name\")\n",
    "print (a)"
   ]
  },
  {
   "cell_type": "code",
   "execution_count": null,
   "id": "e20f4ced",
   "metadata": {},
   "outputs": [
    {
     "name": "stdout",
     "output_type": "stream",
     "text": [
      "5\n"
     ]
    }
   ],
   "source": [
    "v=int(input(\"enter number\"))\n",
    "print(v)"
   ]
  },
  {
   "cell_type": "code",
   "execution_count": null,
   "id": "a5479a71",
   "metadata": {},
   "outputs": [
    {
     "name": "stdout",
     "output_type": "stream",
     "text": [
      "greater\n"
     ]
    }
   ],
   "source": [
    "a=int(input(\"enter number\"))\n",
    "if a>10:\n",
    "    print(\"greater\")\n",
    "elif a==10:\n",
    "    print(\"equal\")\n",
    "else :\n",
    "    print(\"smaller\")"
   ]
  },
  {
   "cell_type": "markdown",
   "id": "13b7bccc",
   "metadata": {},
   "source": [
    "#SHORT HAND IF"
   ]
  },
  {
   "cell_type": "code",
   "execution_count": null,
   "id": "477275cf",
   "metadata": {},
   "outputs": [
    {
     "name": "stdout",
     "output_type": "stream",
     "text": [
      "a greater than b\n"
     ]
    }
   ],
   "source": [
    "a=int(input(\"enter number\"))\n",
    "b=int(input(\"enter number\"))\n",
    "if a>b: print(\"a greater than b\")\n"
   ]
  },
  {
   "cell_type": "markdown",
   "id": "138dc4d0",
   "metadata": {},
   "source": [
    "#Short Hand if___else\n"
   ]
  },
  {
   "cell_type": "code",
   "execution_count": null,
   "id": "97d84d6f",
   "metadata": {},
   "outputs": [
    {
     "name": "stdout",
     "output_type": "stream",
     "text": [
      "B\n"
     ]
    }
   ],
   "source": [
    "a=2\n",
    "b=67\n",
    "print(\"A\") if a>b else print(\"B\")"
   ]
  },
  {
   "cell_type": "code",
   "execution_count": null,
   "id": "ddd9c43e",
   "metadata": {},
   "outputs": [
    {
     "name": "stdout",
     "output_type": "stream",
     "text": [
      "=\n"
     ]
    }
   ],
   "source": [
    "a=300\n",
    "b=300\n",
    "\n",
    "print(\"A\") if a>b else print(\"=\") if a==b else print(\"B\")"
   ]
  },
  {
   "cell_type": "code",
   "execution_count": null,
   "id": "2a99ef0b",
   "metadata": {},
   "outputs": [
    {
     "name": "stdout",
     "output_type": "stream",
     "text": [
      "both condition are true\n"
     ]
    }
   ],
   "source": [
    "a=200\n",
    "b=30\n",
    "c=500\n",
    "\n",
    "if a>b and c>a:\n",
    "    print(\"both condition are true\")    "
   ]
  },
  {
   "cell_type": "markdown",
   "id": "44fc8464",
   "metadata": {},
   "source": [
    "NOT USE\n"
   ]
  },
  {
   "cell_type": "code",
   "execution_count": null,
   "id": "d9afa8be",
   "metadata": {},
   "outputs": [
    {
     "name": "stdout",
     "output_type": "stream",
     "text": [
      "A is not greater\n"
     ]
    }
   ],
   "source": [
    "a=33\n",
    "b=200\n",
    "if not a>b:\n",
    "    print(\"A is not greater\")\n"
   ]
  },
  {
   "cell_type": "code",
   "execution_count": null,
   "id": "49a5d60f",
   "metadata": {},
   "outputs": [
    {
     "name": "stdout",
     "output_type": "stream",
     "text": [
      "invalid input\n"
     ]
    }
   ],
   "source": [
    "a=int(input(\"enter\"))\n",
    "match a:\n",
    "    case 1:\n",
    "        print(\"monday\")\n",
    "    case 2:\n",
    "        print(\"tuesday\")\n",
    "    case 3:\n",
    "        print(\"wednesday\")\n",
    "    case _:\n",
    "        print(\"invalid input\")"
   ]
  },
  {
   "cell_type": "code",
   "execution_count": null,
   "id": "b46ce495",
   "metadata": {},
   "outputs": [
    {
     "name": "stdout",
     "output_type": "stream",
     "text": [
      "invalid input\n"
     ]
    }
   ],
   "source": [
    "month=int(input(\"enter\"))\n",
    "match a:\n",
    "    case 1|2|3|4|5 if month==5:\n",
    "        print(\"weekday\")\n",
    "    case _:\n",
    "        print(\"invalid input\")\n"
   ]
  },
  {
   "cell_type": "code",
   "execution_count": null,
   "id": "b8336beb",
   "metadata": {},
   "outputs": [
    {
     "name": "stdout",
     "output_type": "stream",
     "text": [
      "invalid input\n"
     ]
    }
   ],
   "source": [
    "month=int(input(\"enter\"))\n",
    "match a:\n",
    "    case 1|2|3|4|5:\n",
    "        print(\"weekday\")\n",
    "    case 6|7:\n",
    "        print(\"weekend\")\n",
    "    case _:\n",
    "        print(\"invalid input\")"
   ]
  },
  {
   "cell_type": "markdown",
   "id": "5a47d30e",
   "metadata": {},
   "source": [
    "#while loop"
   ]
  },
  {
   "cell_type": "code",
   "execution_count": null,
   "id": "ff82d7bd",
   "metadata": {},
   "outputs": [
    {
     "name": "stdout",
     "output_type": "stream",
     "text": [
      "1\n",
      "2\n",
      "3\n",
      "4\n",
      "5\n"
     ]
    }
   ],
   "source": [
    "i=1\n",
    "while i<6:\n",
    "    print(i)\n",
    "    i+=1"
   ]
  },
  {
   "cell_type": "code",
   "execution_count": null,
   "id": "0dc367a8",
   "metadata": {},
   "outputs": [
    {
     "name": "stdout",
     "output_type": "stream",
     "text": [
      "square is  25\n"
     ]
    }
   ],
   "source": [
    "#wap to find the square of a number\n",
    "n=int(input(\"enter nummber\"))\n",
    "print(\"square is \",n**2)"
   ]
  },
  {
   "cell_type": "code",
   "execution_count": null,
   "id": "25079dc5",
   "metadata": {},
   "outputs": [
    {
     "name": "stdout",
     "output_type": "stream",
     "text": [
      "sum is  10\n"
     ]
    }
   ],
   "source": [
    "#wap to take two numbers and print their sum\n",
    "a=int(input(\"enter a number\"))\n",
    "b=int(input(\"enter a number\"))\n",
    "print(\"sum is \",a+b)"
   ]
  },
  {
   "cell_type": "code",
   "execution_count": null,
   "id": "ae88678a",
   "metadata": {},
   "outputs": [
    {
     "name": "stdout",
     "output_type": "stream",
     "text": [
      "a: 5 b: 5\n"
     ]
    }
   ],
   "source": [
    "#wap to to swap two variables\n",
    "a=int(input(\"enter a number\"))\n",
    "b=int(input(\"enter a number\"))\n",
    "a,b=b,a\n",
    "print(\"a:\",a,\"b:\",b)"
   ]
  },
  {
   "cell_type": "code",
   "execution_count": null,
   "id": "283af8d2",
   "metadata": {},
   "outputs": [
    {
     "name": "stdout",
     "output_type": "stream",
     "text": [
      "odd\n"
     ]
    }
   ],
   "source": [
    "#WAP TO CHECK NUMBER IS EVEN OR ODD\n",
    "a=int(input(\"enter a number\"))\n",
    "if a%2==0:\n",
    "    print(\"even\")\n",
    "else:\n",
    "    print(\"odd\")"
   ]
  },
  {
   "cell_type": "code",
   "execution_count": null,
   "id": "572001d8",
   "metadata": {},
   "outputs": [
    {
     "name": "stdout",
     "output_type": "stream",
     "text": [
      "NO\n"
     ]
    }
   ],
   "source": [
    "#mini program example-Number guessing game\n",
    "b=10\n",
    "a=int(input(\"enter a number\"))\n",
    "if a==b:\n",
    "    print(\"yes\")\n",
    "else:\n",
    "    print(\"NO\")\n"
   ]
  },
  {
   "cell_type": "code",
   "execution_count": null,
   "id": "fe409ac3",
   "metadata": {},
   "outputs": [
    {
     "name": "stdout",
     "output_type": "stream",
     "text": [
      "fahrenheit is  41.0\n"
     ]
    }
   ],
   "source": [
    "#wap to convert celcius into fahrenheit\n",
    "c=int(input(\"enter a number\"))\n",
    "f=(c*9/5)+32\n",
    "print(\"fahrenheit is \",f)\n"
   ]
  },
  {
   "cell_type": "code",
   "execution_count": null,
   "id": "ef40cd8d",
   "metadata": {},
   "outputs": [
    {
     "name": "stdout",
     "output_type": "stream",
     "text": [
      "SI Is: 2.1\n"
     ]
    }
   ],
   "source": [
    "#WAP TO CALCULATE SIMPLE INTEREST\n",
    "p=int(input(\"enter p\"))\n",
    "r=int(input(\"enter r\"))\n",
    "t=int(input(\"ente t\"))\n",
    "print(\"SI Is:\",(p*r*t)/100)"
   ]
  },
  {
   "cell_type": "code",
   "execution_count": null,
   "id": "57fa15a6",
   "metadata": {},
   "outputs": [
    {
     "name": "stdout",
     "output_type": "stream",
     "text": [
      "lkjhgfdsa\n"
     ]
    }
   ],
   "source": [
    "#wap to reverse a string\n",
    "s=input(\"enter a string\")\n",
    "print(s[::-1])"
   ]
  },
  {
   "cell_type": "code",
   "execution_count": null,
   "id": "2c82e6f5",
   "metadata": {},
   "outputs": [
    {
     "name": "stdout",
     "output_type": "stream",
     "text": [
      "1\n",
      "2\n",
      "3\n"
     ]
    }
   ],
   "source": [
    "i=1\n",
    "while i<6:\n",
    "    print(i)\n",
    "    if i==3:\n",
    "        break\n",
    "    i+=1"
   ]
  },
  {
   "cell_type": "code",
   "execution_count": 3,
   "id": "f534b4a1",
   "metadata": {},
   "outputs": [
    {
     "name": "stdout",
     "output_type": "stream",
     "text": [
      "1\n",
      "2\n",
      "4\n",
      "5\n",
      "6\n"
     ]
    }
   ],
   "source": [
    "i=0\n",
    "while i<6:\n",
    "    i+=1\n",
    "    if i==3:\n",
    "        continue\n",
    "    print(i)\n",
    "    "
   ]
  },
  {
   "cell_type": "code",
   "execution_count": 4,
   "id": "ab7b1f08",
   "metadata": {},
   "outputs": [
    {
     "name": "stdout",
     "output_type": "stream",
     "text": [
      "apple\n",
      "banana\n",
      "cherry\n",
      "<class 'list'>\n"
     ]
    },
    {
     "data": {
      "text/plain": [
       "list"
      ]
     },
     "execution_count": 4,
     "metadata": {},
     "output_type": "execute_result"
    }
   ],
   "source": [
    "fruits=[\"apple\",\"banana\",\"cherry\"]\n",
    "for x in fruits:\n",
    "    print(x)    \n",
    "print(type(fruits))\n",
    "type(fruits)"
   ]
  },
  {
   "cell_type": "code",
   "execution_count": 5,
   "id": "9653bc22",
   "metadata": {},
   "outputs": [
    {
     "name": "stdout",
     "output_type": "stream",
     "text": [
      "A\n",
      "p\n",
      "p\n",
      "l\n",
      "e\n"
     ]
    }
   ],
   "source": [
    "for x in \"Apple\":\n",
    "    print(x)"
   ]
  },
  {
   "cell_type": "markdown",
   "id": "660ae96e",
   "metadata": {},
   "source": [
    "#break statement with list\n"
   ]
  },
  {
   "cell_type": "code",
   "execution_count": 6,
   "id": "39ded209",
   "metadata": {},
   "outputs": [
    {
     "name": "stdout",
     "output_type": "stream",
     "text": [
      "apple\n",
      "banana\n"
     ]
    }
   ],
   "source": [
    "fruits=[\"apple\",\"banana\",\"cherry\"]\n",
    "for x in fruits:\n",
    "    print(x)\n",
    "    if x==\"banana\":\n",
    "        break"
   ]
  },
  {
   "cell_type": "code",
   "execution_count": 7,
   "id": "885ce3e7",
   "metadata": {},
   "outputs": [
    {
     "name": "stdout",
     "output_type": "stream",
     "text": [
      "apple\n",
      "cherry\n"
     ]
    }
   ],
   "source": [
    "fruits=[\"apple\",\"banana\",\"cherry\"]\n",
    "for x in fruits:\n",
    "        \n",
    "    if x==\"banana\":\n",
    "        continue  \n",
    "    print(x)\n",
    "      \n"
   ]
  },
  {
   "cell_type": "markdown",
   "id": "256a6a13",
   "metadata": {},
   "source": [
    "for with range"
   ]
  },
  {
   "cell_type": "code",
   "execution_count": 8,
   "id": "cdbc2005",
   "metadata": {},
   "outputs": [
    {
     "name": "stdout",
     "output_type": "stream",
     "text": [
      "0\n",
      "1\n",
      "2\n",
      "3\n",
      "4\n",
      "5\n",
      "6\n",
      "7\n",
      "8\n",
      "9\n"
     ]
    }
   ],
   "source": [
    "for x in range(10):\n",
    "    print(x)"
   ]
  },
  {
   "cell_type": "code",
   "execution_count": 9,
   "id": "163cc342",
   "metadata": {},
   "outputs": [
    {
     "name": "stdout",
     "output_type": "stream",
     "text": [
      "2\n",
      "3\n",
      "4\n",
      "5\n",
      "6\n",
      "7\n",
      "8\n",
      "9\n"
     ]
    }
   ],
   "source": [
    "for i in range(2,10):\n",
    "    print(i)"
   ]
  },
  {
   "cell_type": "code",
   "execution_count": 10,
   "id": "51db6ad4",
   "metadata": {},
   "outputs": [
    {
     "name": "stdout",
     "output_type": "stream",
     "text": [
      "1\n",
      "3\n",
      "5\n",
      "7\n",
      "9\n"
     ]
    }
   ],
   "source": [
    "for i in range(1,10,2):\n",
    "    print(i)"
   ]
  },
  {
   "cell_type": "markdown",
   "id": "6ab9716f",
   "metadata": {},
   "source": [
    "while with else"
   ]
  },
  {
   "cell_type": "code",
   "execution_count": 11,
   "id": "9d27282f",
   "metadata": {},
   "outputs": [
    {
     "name": "stdout",
     "output_type": "stream",
     "text": [
      "1\n",
      "2\n",
      "3\n",
      "4\n",
      "5\n",
      "i is no longer \n"
     ]
    }
   ],
   "source": [
    "i=1\n",
    "while i<6:\n",
    "    print(i)\n",
    "    i+=1\n",
    "else:\n",
    "    print(\"i is no longer \")"
   ]
  },
  {
   "cell_type": "code",
   "execution_count": 12,
   "id": "62d20cad",
   "metadata": {},
   "outputs": [
    {
     "name": "stdout",
     "output_type": "stream",
     "text": [
      "1\n",
      "2\n",
      "3\n",
      "4\n",
      "5\n",
      "finally\n"
     ]
    }
   ],
   "source": [
    "i=1\n",
    "while i<6:\n",
    "    print(i)\n",
    "    i+=1\n",
    "else:\n",
    "    print(\"finally\")"
   ]
  },
  {
   "cell_type": "code",
   "execution_count": 13,
   "id": "b6638570",
   "metadata": {},
   "outputs": [
    {
     "name": "stdout",
     "output_type": "stream",
     "text": [
      "A Apple\n",
      "A Banana\n",
      "A Cherry\n",
      "B Apple\n",
      "B Banana\n",
      "B Cherry\n",
      "C Apple\n",
      "C Banana\n",
      "C Cherry\n"
     ]
    }
   ],
   "source": [
    "a=[\"A\",\"B\",\"C\"]\n",
    "fruits=[\"Apple\",\"Banana\",\"Cherry\"]\n",
    "for x in a:\n",
    "    for y in fruits:\n",
    "        print(x,y)"
   ]
  },
  {
   "cell_type": "code",
   "execution_count": 14,
   "id": "642c50ca",
   "metadata": {},
   "outputs": [],
   "source": [
    "for x in [0,1,2,3]:\n",
    "    pass"
   ]
  },
  {
   "cell_type": "markdown",
   "id": "3b9bccfe",
   "metadata": {},
   "source": [
    "LIST"
   ]
  },
  {
   "cell_type": "code",
   "execution_count": 15,
   "id": "6b037eea",
   "metadata": {},
   "outputs": [
    {
     "name": "stdout",
     "output_type": "stream",
     "text": [
      "['aryan', 1, 5]\n"
     ]
    }
   ],
   "source": [
    "list1=[\"aryan\",1,5]\n",
    "print(list1)"
   ]
  },
  {
   "cell_type": "code",
   "execution_count": 16,
   "id": "456df70e",
   "metadata": {},
   "outputs": [
    {
     "name": "stdout",
     "output_type": "stream",
     "text": [
      "['aryan', 1, 5, 'rohan']\n"
     ]
    }
   ],
   "source": [
    "list1=[\"aryan\",1,5,\"rohan\"]\n",
    "print(list1)"
   ]
  },
  {
   "cell_type": "markdown",
   "id": "0c21ace6",
   "metadata": {},
   "source": [
    "list constructor"
   ]
  },
  {
   "cell_type": "code",
   "execution_count": 21,
   "id": "f1e00ee5",
   "metadata": {},
   "outputs": [
    {
     "name": "stdout",
     "output_type": "stream",
     "text": [
      "['apple', 'banana', 'cherry', 1, 2]\n"
     ]
    }
   ],
   "source": [
    "list = [\"apple\", \"banana\", \"cherry\", 1, 2]\n",
    "print(list)"
   ]
  },
  {
   "cell_type": "code",
   "execution_count": null,
   "id": "e94c94f7",
   "metadata": {},
   "outputs": [],
   "source": [
    "#access item in list\n",
    "list1=[\"aryan\",1,5,\"rohan\"]\n",
    "print(list1[0])\n",
    "print(list1[1])\n",
    "print(list1[2])"
   ]
  },
  {
   "cell_type": "code",
   "execution_count": null,
   "id": "b8836188",
   "metadata": {},
   "outputs": [],
   "source": [
    "list1=[\"aryan\",1,5,\"rohan\"]\n",
    "print(list1[-1])"
   ]
  },
  {
   "cell_type": "code",
   "execution_count": null,
   "id": "7abb5798",
   "metadata": {},
   "outputs": [],
   "source": [
    "list1=[\"aryan\",1,5,\"rohan\"]\n",
    "del list1[\"rohan\"]\n",
    "del list1[0]\n",
    "print(list1)"
   ]
  },
  {
   "cell_type": "code",
   "execution_count": null,
   "id": "468b6e6a",
   "metadata": {},
   "outputs": [],
   "source": [
    "list1=[\"aryan\",2,6,\"rohan\"]\n",
    "list1.clear()\n",
    "print(list1)"
   ]
  },
  {
   "cell_type": "code",
   "execution_count": null,
   "id": "2434a404",
   "metadata": {},
   "outputs": [
    {
     "name": "stdout",
     "output_type": "stream",
     "text": [
      "aryan\n",
      "1\n",
      "5\n",
      "rohan\n"
     ]
    }
   ],
   "source": [
    "list1=[\"aryan\",1,5,\"rohan\"]\n",
    "for i  in range(len(list1)):\n",
    "    print(list1[i])"
   ]
  },
  {
   "cell_type": "code",
   "execution_count": null,
   "id": "bf6cf318",
   "metadata": {},
   "outputs": [
    {
     "name": "stdout",
     "output_type": "stream",
     "text": [
      "aryan\n",
      "1\n",
      "5\n",
      "rohan\n"
     ]
    }
   ],
   "source": [
    "list1=[\"aryan\",1,5,\"rohan\"]\n",
    "i=0\n",
    "while i<len(list1):\n",
    "    print(list1[i])\n",
    "    i+=1"
   ]
  },
  {
   "cell_type": "code",
   "execution_count": null,
   "id": "2e7d630c",
   "metadata": {},
   "outputs": [
    {
     "name": "stdout",
     "output_type": "stream",
     "text": [
      "['APPLE', 'BANANA', 'CHERRY']\n"
     ]
    }
   ],
   "source": [
    "fruits=[\"apple\",\"banana\",\"cherry\"]\n",
    "newlist=[x.upper() for x in fruits]\n",
    "print(newlist)"
   ]
  },
  {
   "cell_type": "code",
   "execution_count": null,
   "id": "f0726496",
   "metadata": {},
   "outputs": [
    {
     "name": "stdout",
     "output_type": "stream",
     "text": [
      "['Apple', 'Banana', 'Cherry']\n"
     ]
    }
   ],
   "source": [
    "fruits=[\"apple\",\"banana\",\"cherry\"]\n",
    "newlist=[x.capitalize() for x in fruits]\n",
    "print(newlist)"
   ]
  },
  {
   "cell_type": "code",
   "execution_count": null,
   "id": "52f551df",
   "metadata": {},
   "outputs": [
    {
     "name": "stdout",
     "output_type": "stream",
     "text": [
      "[35, 46, 46, 56, 64, 646]\n"
     ]
    }
   ],
   "source": [
    "#sort\n",
    "list=[56,46,646,46,64,35]\n",
    "list.sort()\n",
    "print(list)"
   ]
  },
  {
   "cell_type": "code",
   "execution_count": null,
   "id": "cdb08a7d",
   "metadata": {},
   "outputs": [
    {
     "name": "stdout",
     "output_type": "stream",
     "text": [
      "[646, 64, 56, 46, 46, 35]\n"
     ]
    }
   ],
   "source": [
    "list=[56,46,646,46,64,35]\n",
    "list.sort(reverse=True)\n",
    "print(list)"
   ]
  },
  {
   "cell_type": "code",
   "execution_count": null,
   "id": "61bf82c3",
   "metadata": {},
   "outputs": [
    {
     "name": "stdout",
     "output_type": "stream",
     "text": [
      "[35, 64, 46, 646, 46, 56]\n"
     ]
    }
   ],
   "source": [
    "list=[56,46,646,46,64,35]\n",
    "list.reverse()\n",
    "print(list)"
   ]
  },
  {
   "cell_type": "code",
   "execution_count": 22,
   "id": "da116b67",
   "metadata": {},
   "outputs": [
    {
     "name": "stdout",
     "output_type": "stream",
     "text": [
      "['aryan', 1, 5, 'rohan']\n"
     ]
    }
   ],
   "source": [
    "#to copy data from one list to another\n",
    "list1=[\"aryan\",1,5,\"rohan\"]\n",
    "list2=list1.copy()\n",
    "print(list2)"
   ]
  },
  {
   "cell_type": "code",
   "execution_count": 44,
   "id": "8a510bea",
   "metadata": {},
   "outputs": [
    {
     "name": "stdout",
     "output_type": "stream",
     "text": [
      "['aryan', 1, 5, 'rohan']\n"
     ]
    },
    {
     "ename": "TypeError",
     "evalue": "'list' object is not callable",
     "output_type": "error",
     "traceback": [
      "\u001b[31m---------------------------------------------------------------------------\u001b[39m",
      "\u001b[31mTypeError\u001b[39m                                 Traceback (most recent call last)",
      "\u001b[36mCell\u001b[39m\u001b[36m \u001b[39m\u001b[32mIn[44]\u001b[39m\u001b[32m, line 4\u001b[39m\n\u001b[32m      2\u001b[39m P= [\u001b[33m\"\u001b[39m\u001b[33maryan\u001b[39m\u001b[33m\"\u001b[39m, \u001b[32m1\u001b[39m, \u001b[32m5\u001b[39m, \u001b[33m\"\u001b[39m\u001b[33mrohan\u001b[39m\u001b[33m\"\u001b[39m]\n\u001b[32m      3\u001b[39m \u001b[38;5;28mprint\u001b[39m(P)\n\u001b[32m----> \u001b[39m\u001b[32m4\u001b[39m B = \u001b[38;5;28;43mlist\u001b[39;49m\u001b[43m(\u001b[49m\u001b[43mP\u001b[49m\u001b[43m)\u001b[49m\u001b[38;5;66;03m# use another variable name instead of 'list'\u001b[39;00m\n\u001b[32m      5\u001b[39m \u001b[38;5;28mprint\u001b[39m(B)\n",
      "\u001b[31mTypeError\u001b[39m: 'list' object is not callable"
     ]
    }
   ],
   "source": [
    "#another method to copy\n",
    "P= [\"aryan\", 1, 5, \"rohan\"]\n",
    "print(P)\n",
    "B = list(P)# use another variable name instead of 'list'\n",
    "print(B)\n",
    "\n"
   ]
  },
  {
   "cell_type": "code",
   "execution_count": null,
   "id": "a7be8408",
   "metadata": {},
   "outputs": [
    {
     "name": "stdout",
     "output_type": "stream",
     "text": [
      "['aryan', 1, 5, 'rohan']\n"
     ]
    }
   ],
   "source": [
    "#another method to copy\n",
    "L= [\"aryan\", 1, 5, \"rohan\"]\n",
    "list2 = L.copy()\n",
    "print(list2)"
   ]
  },
  {
   "cell_type": "code",
   "execution_count": null,
   "id": "2ecb51c9",
   "metadata": {},
   "outputs": [
    {
     "name": "stdout",
     "output_type": "stream",
     "text": [
      "['aryan', 1, 5, 'rohan', 'hello', 3, 6, 'hi']\n"
     ]
    }
   ],
   "source": [
    "#to join two lists\n",
    "list1=[\"aryan\",1,5,\"rohan\"]\n",
    "list2=[\"hello\",3,6,\"hi\"]\n",
    "list3=list1+list2\n",
    "print(list3)"
   ]
  },
  {
   "cell_type": "code",
   "execution_count": null,
   "id": "05a42dda",
   "metadata": {},
   "outputs": [
    {
     "name": "stdout",
     "output_type": "stream",
     "text": [
      "['aryan', 1, 5, 'rohan', 1, 2, 3, 4]\n"
     ]
    }
   ],
   "source": [
    "list1=[\"aryan\",1,5,\"rohan\"]\n",
    "list2=[1,2,3,4]\n",
    "for s in list2:\n",
    "    list1.append(s)\n",
    "print(list1)"
   ]
  },
  {
   "cell_type": "code",
   "execution_count": null,
   "id": "3f966a4b",
   "metadata": {},
   "outputs": [
    {
     "name": "stdout",
     "output_type": "stream",
     "text": [
      "['a', 'b', 'c', 1, 2, 3]\n"
     ]
    }
   ],
   "source": [
    "list1=[\"a\", \"b\", \"c\"]\n",
    "list2=[1,2,3]\n",
    "list1.extend(list2)\n",
    "print(list1)"
   ]
  },
  {
   "cell_type": "markdown",
   "id": "f8a0d2db",
   "metadata": {},
   "source": [
    "TUPLE"
   ]
  },
  {
   "cell_type": "code",
   "execution_count": 1,
   "id": "c369ed67",
   "metadata": {},
   "outputs": [],
   "source": [
    "mytuple=(\"apple\",\"banana\",\"cherry\")"
   ]
  },
  {
   "cell_type": "code",
   "execution_count": 3,
   "id": "11fb209f",
   "metadata": {},
   "outputs": [
    {
     "data": {
      "text/plain": [
       "('apple', 'banana', 'cherry')"
      ]
     },
     "execution_count": 3,
     "metadata": {},
     "output_type": "execute_result"
    }
   ],
   "source": [
    "mytuple"
   ]
  },
  {
   "cell_type": "markdown",
   "id": "6dea4b51",
   "metadata": {},
   "source": [
    "tuple constructor"
   ]
  },
  {
   "cell_type": "code",
   "execution_count": 4,
   "id": "0182aeba",
   "metadata": {},
   "outputs": [
    {
     "name": "stdout",
     "output_type": "stream",
     "text": [
      "('apple', 'banana', 'cherry')\n"
     ]
    }
   ],
   "source": [
    "T=tuple((\"apple\",\"banana\",\"cherry\"))\n",
    "print(T)\n"
   ]
  },
  {
   "cell_type": "code",
   "execution_count": 5,
   "id": "9927df98",
   "metadata": {},
   "outputs": [
    {
     "data": {
      "text/plain": [
       "'banana'"
      ]
     },
     "execution_count": 5,
     "metadata": {},
     "output_type": "execute_result"
    }
   ],
   "source": [
    "T[1]"
   ]
  },
  {
   "cell_type": "code",
   "execution_count": 6,
   "id": "816d4485",
   "metadata": {},
   "outputs": [
    {
     "data": {
      "text/plain": [
       "'cherry'"
      ]
     },
     "execution_count": 6,
     "metadata": {},
     "output_type": "execute_result"
    }
   ],
   "source": [
    "T[-1]"
   ]
  },
  {
   "cell_type": "code",
   "execution_count": 7,
   "id": "799b733c",
   "metadata": {},
   "outputs": [
    {
     "name": "stdout",
     "output_type": "stream",
     "text": [
      "('apple', 'banana', 'cherry', 'orange')\n"
     ]
    }
   ],
   "source": [
    "thistuple=(\"apple\",\"banana\",\"cherry\",\"orange\",\"kiwi\",\"melon\")\n",
    "print(thistuple[:4])"
   ]
  },
  {
   "cell_type": "code",
   "execution_count": 8,
   "id": "d4107d88",
   "metadata": {},
   "outputs": [
    {
     "name": "stdout",
     "output_type": "stream",
     "text": [
      "('cherry', 'orange', 'kiwi', 'melon')\n"
     ]
    }
   ],
   "source": [
    "print(thistuple[2:])"
   ]
  },
  {
   "cell_type": "code",
   "execution_count": 9,
   "id": "05dd22d8",
   "metadata": {},
   "outputs": [
    {
     "name": "stdout",
     "output_type": "stream",
     "text": [
      "('cherry', 'orange', 'kiwi')\n"
     ]
    }
   ],
   "source": [
    "print(thistuple[-4:-1])"
   ]
  },
  {
   "cell_type": "markdown",
   "id": "74fca35f",
   "metadata": {},
   "source": [
    "check if this exist"
   ]
  },
  {
   "cell_type": "code",
   "execution_count": 10,
   "id": "b681e7d7",
   "metadata": {},
   "outputs": [
    {
     "name": "stdout",
     "output_type": "stream",
     "text": [
      "Yes, 'apple' is in the tuple\n"
     ]
    }
   ],
   "source": [
    "thistuple=(\"apple\",\"banana\",\"cherry\")\n",
    "if \"apple\" in thistuple:\n",
    "\tprint(\"Yes, 'apple' is in the tuple\")"
   ]
  },
  {
   "cell_type": "code",
   "execution_count": 11,
   "id": "f04b5c2d",
   "metadata": {},
   "outputs": [
    {
     "name": "stdout",
     "output_type": "stream",
     "text": [
      "('apple', 'kiwi', 'cherry')\n"
     ]
    }
   ],
   "source": [
    "x=(\"apple\",\"banana\",\"cherry\")\n",
    "y=list(x)\n",
    "y[1]=\"kiwi\"\n",
    "x=tuple(y)\n",
    "print(x)"
   ]
  },
  {
   "cell_type": "markdown",
   "id": "4ece6c50",
   "metadata": {},
   "source": [
    "#add item"
   ]
  },
  {
   "cell_type": "code",
   "execution_count": 13,
   "id": "2061b939",
   "metadata": {},
   "outputs": [
    {
     "name": "stdout",
     "output_type": "stream",
     "text": [
      "('apple', 'banana', 'cherry', 'orange')\n"
     ]
    }
   ],
   "source": [
    "thistuple=(\"apple\",\"banana\",\"cherry\")\n",
    "y=list(thistuple)\n",
    "y.append(\"orange\")\n",
    "thistuple=tuple(y)\n",
    "print(thistuple)"
   ]
  },
  {
   "cell_type": "code",
   "execution_count": 17,
   "id": "cbcc0cab",
   "metadata": {},
   "outputs": [
    {
     "name": "stdout",
     "output_type": "stream",
     "text": [
      "('apple', 'banana', 'cherry', 'orange')\n"
     ]
    }
   ],
   "source": [
    "thistuple=(\"apple\",\"banana\",\"cherry\")\n",
    "y=(\"orange\",)\n",
    "thistuple+=y\n",
    "print(thistuple)"
   ]
  },
  {
   "cell_type": "markdown",
   "id": "a9d17b6e",
   "metadata": {},
   "source": [
    "remove item"
   ]
  },
  {
   "cell_type": "code",
   "execution_count": 15,
   "id": "d4cf716a",
   "metadata": {},
   "outputs": [],
   "source": [
    "thistuple=(\"apple\",\"banana\",\"cherry\")\n",
    "y=list(thistuple)\n",
    "y.remove(\"apple\")\n",
    "thistuple=tuple(y)"
   ]
  },
  {
   "cell_type": "markdown",
   "id": "f9d7293b",
   "metadata": {},
   "source": [
    "unpacking tuple"
   ]
  },
  {
   "cell_type": "code",
   "execution_count": 16,
   "id": "2b8271ea",
   "metadata": {},
   "outputs": [
    {
     "name": "stdout",
     "output_type": "stream",
     "text": [
      "apple\n",
      "banana\n",
      "cherry\n"
     ]
    }
   ],
   "source": [
    "fruits=(\"apple\",\"banana\",\"cherry\")\n",
    "(green,yellow,red)=fruits\n",
    "print(green)\n",
    "print(yellow)\n",
    "print(red)"
   ]
  },
  {
   "cell_type": "code",
   "execution_count": 18,
   "id": "09b885bf",
   "metadata": {},
   "outputs": [
    {
     "name": "stdout",
     "output_type": "stream",
     "text": [
      "apple\n",
      "banana\n",
      "['cherry', 'strawberry', 'raspberry']\n"
     ]
    }
   ],
   "source": [
    "fruits=(\"apple\",\"banana\",\"cherry\",\"strawberry\",\"raspberry\")\n",
    "(green,yellow,*red)=fruits\n",
    "print(green)\n",
    "print(yellow)\n",
    "print(red)"
   ]
  },
  {
   "cell_type": "code",
   "execution_count": 19,
   "id": "89ddf2f4",
   "metadata": {},
   "outputs": [
    {
     "name": "stdout",
     "output_type": "stream",
     "text": [
      "apple\n",
      "['banana', 'cherry', 'strawberry']\n",
      "raspberry\n"
     ]
    }
   ],
   "source": [
    "fruits=(\"apple\",\"banana\",\"cherry\",\"strawberry\",\"raspberry\")\n",
    "(green,*yellow,red)=fruits\n",
    "print(green)\n",
    "print(yellow)\n",
    "print(red)"
   ]
  },
  {
   "cell_type": "code",
   "execution_count": 20,
   "id": "4b877cb7",
   "metadata": {},
   "outputs": [
    {
     "name": "stdout",
     "output_type": "stream",
     "text": [
      "['apple', 'banana', 'cherry']\n",
      "strawberry\n",
      "raspberry\n"
     ]
    }
   ],
   "source": [
    "fruits=(\"apple\",\"banana\",\"cherry\",\"strawberry\",\"raspberry\")\n",
    "(*green,yellow,red)=fruits\n",
    "print(green)\n",
    "print(yellow)\n",
    "print(red)"
   ]
  },
  {
   "cell_type": "markdown",
   "id": "509cecc0",
   "metadata": {},
   "source": [
    "#dictionary"
   ]
  },
  {
   "cell_type": "code",
   "execution_count": 21,
   "id": "13cd05eb",
   "metadata": {},
   "outputs": [
    {
     "name": "stdout",
     "output_type": "stream",
     "text": [
      "{'brand': 'BMW', 'mod': 'xyz'}\n"
     ]
    }
   ],
   "source": [
    "d={\n",
    "    \"brand\":\"BMW\",\n",
    "    \"mod\":\"xyz\"\n",
    "}\n",
    "print(d)"
   ]
  },
  {
   "cell_type": "code",
   "execution_count": null,
   "id": "7f170f59",
   "metadata": {},
   "outputs": [],
   "source": []
  }
 ],
 "metadata": {
  "kernelspec": {
   "display_name": "Python 3",
   "language": "python",
   "name": "python3"
  },
  "language_info": {
   "codemirror_mode": {
    "name": "ipython",
    "version": 3
   },
   "file_extension": ".py",
   "mimetype": "text/x-python",
   "name": "python",
   "nbconvert_exporter": "python",
   "pygments_lexer": "ipython3",
   "version": "3.11.9"
  }
 },
 "nbformat": 4,
 "nbformat_minor": 5
}
